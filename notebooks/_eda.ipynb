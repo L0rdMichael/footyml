{
 "cells": [
  {
   "cell_type": "code",
   "execution_count": 1,
   "id": "a5867e2c",
   "metadata": {},
   "outputs": [],
   "source": [
    "import pandas as pd\n",
    "import numpy as np\n",
    "import matplotlib\n",
    "from matplotlib import pyplot as plt\n",
    "%matplotlib inline\n",
    "matplotlib.rcParams['figure.figsize'] = (10,6)\n",
    "from collections import defaultdict, deque\n",
    "from calendar import month_name\n",
    "\n",
    "import seaborn as sns\n",
    "\n",
    "import math"
   ]
  },
  {
   "cell_type": "code",
   "execution_count": 38,
   "id": "7b1b0d6e",
   "metadata": {},
   "outputs": [
    {
     "name": "stdout",
     "output_type": "stream",
     "text": [
      "DataFrame df1 shape: (7681, 123)\n",
      "DataFrame df2 shape: (7800, 106)\n",
      "DataFrame df3 shape: (7829, 106)\n",
      "DataFrame df4 shape: (7822, 108)\n",
      "DataFrame df5 shape: (7648, 106)\n"
     ]
    }
   ],
   "source": [
    "import glob\n",
    "\n",
    "# df = pd.read_csv('../data/raw/euro-2024-2025/B1.csv')\n",
    "csv_2024 = glob.glob('../data/raw/euro-2024-2025/*.csv')\n",
    "csv_2023 = glob.glob('../data/raw/euro-2023-2024/*.csv')\n",
    "csv_2022 = glob.glob('../data/raw/euro-2022-2023/*.csv')\n",
    "csv_2021 = glob.glob('../data/raw/euro-2021-2022/*.csv')\n",
    "csv_2020 = glob.glob('../data/raw/euro-2020-2021/*.csv')\n",
    "\n",
    "\n",
    "def load_csv_files(file_list, index):\n",
    "    dataframes = pd.DataFrame()\n",
    "    for file in file_list:\n",
    "        try:\n",
    "            non_ascii_pattern = r'[^\\x00-\\x7F]+'\n",
    "            df_temp = pd.read_csv(file, encoding='latin1')\n",
    "            for col in df_temp.select_dtypes(include='object').columns:\n",
    "                df_temp[col] = df_temp[col].str.replace(non_ascii_pattern, '', regex=True)\n",
    "            dataframes = pd.concat([dataframes, df_temp], ignore_index=True)\n",
    "        except Exception as e:\n",
    "            print(f\"Error reading at index {index} for file {file}: {e}\")\n",
    "    return dataframes\n",
    "\n",
    "\n",
    "df1=df2=df3=df4=df5=pd.DataFrame()\n",
    "\n",
    "for i, csv in enumerate([csv_2024, csv_2023, csv_2022, csv_2021, csv_2020], start=1):\n",
    "    vars()[f'df{i}'] = load_csv_files(csv, i)\n",
    "    \n",
    "for i in range(1, 6):\n",
    "    print(f\"DataFrame df{i} shape: {vars()[f'df{i}'].shape}\")  # Print the shape of each DataFrame\n",
    "\n",
    "df1['Div'] = df1['ï»¿Div']\n",
    "df1.drop('ï»¿Div', axis=1, inplace=True)"
   ]
  },
  {
   "cell_type": "code",
   "execution_count": null,
   "id": "02425f24",
   "metadata": {},
   "outputs": [],
   "source": [
    "df3.columns.tolist()"
   ]
  },
  {
   "cell_type": "code",
   "execution_count": null,
   "id": "fb671b0f",
   "metadata": {},
   "outputs": [
    {
     "name": "stderr",
     "output_type": "stream",
     "text": [
      "/var/folders/20/rjmqgh8s6b5026966rk_2tt80000gn/T/ipykernel_15819/511736574.py:13: SettingWithCopyWarning: \n",
      "A value is trying to be set on a copy of a slice from a DataFrame.\n",
      "Try using .loc[row_indexer,col_indexer] = value instead\n",
      "\n",
      "See the caveats in the documentation: https://pandas.pydata.org/pandas-docs/stable/user_guide/indexing.html#returning-a-view-versus-a-copy\n",
      "  ft_stat_df1['Date'] = pd.to_datetime(ft_stat_df1['Date'], dayfirst=True)\n"
     ]
    }
   ],
   "source": [
    "relevant_columns = ['Div', 'Date', 'Time', 'HomeTeam', 'AwayTeam', 'FTHG', 'FTAG', 'FTR', \n",
    "                    # 'HTHG', 'HTAG', 'HTR', 'HST', 'AST', 'HC', 'AC', 'HR', 'AR'\n",
    "                    ]\n",
    "\n",
    "ft_stat_df1 = df1[relevant_columns]\n",
    "\n",
    "# assigning shots on target to na columns\n",
    "# zero_column_field = ['HR','AR','HTHG','HTAG','HC','AC']\n",
    "\n",
    "# ft_stat_df1['HST'].fillna(np.ceil(ft_stat_df1['FTHG']*1.5),inplace=True)\n",
    "# ft_stat_df1['AST'].fillna(np.ceil(ft_stat_df1['FTAG']*1.5),inplace=True)\n",
    "# ft_stat_df1[zero_column_field] = ft_stat_df1[zero_column_field].fillna(0)\n",
    "ft_stat_df1['Date'] = pd.to_datetime(ft_stat_df1['Date'], dayfirst=True)\n",
    "\n",
    "# dropping row where htr is na\n",
    "# ft_stat_df1 = ft_stat_df1[~ft_stat_df1['HTR'].isna()]"
   ]
  },
  {
   "cell_type": "code",
   "execution_count": null,
   "id": "6b08be8c",
   "metadata": {},
   "outputs": [],
   "source": [
    "ft_stat_df1.head(5)"
   ]
  },
  {
   "cell_type": "code",
   "execution_count": 4,
   "id": "2b5f2e5d",
   "metadata": {},
   "outputs": [
    {
     "data": {
      "text/html": [
       "<div>\n",
       "<style scoped>\n",
       "    .dataframe tbody tr th:only-of-type {\n",
       "        vertical-align: middle;\n",
       "    }\n",
       "\n",
       "    .dataframe tbody tr th {\n",
       "        vertical-align: top;\n",
       "    }\n",
       "\n",
       "    .dataframe thead th {\n",
       "        text-align: right;\n",
       "    }\n",
       "</style>\n",
       "<table border=\"1\" class=\"dataframe\">\n",
       "  <thead>\n",
       "    <tr style=\"text-align: right;\">\n",
       "      <th></th>\n",
       "      <th>Date</th>\n",
       "      <th>HomeTeam</th>\n",
       "      <th>AwayTeam</th>\n",
       "      <th>FTR</th>\n",
       "      <th>HomeForm</th>\n",
       "      <th>AwayForm</th>\n",
       "      <th>HomeGP</th>\n",
       "      <th>AwayGP</th>\n",
       "      <th>HomePerf</th>\n",
       "      <th>AwayPerf</th>\n",
       "    </tr>\n",
       "  </thead>\n",
       "  <tbody>\n",
       "    <tr>\n",
       "      <th>0</th>\n",
       "      <td>2024-07-26</td>\n",
       "      <td>Club Brugge</td>\n",
       "      <td>Mechelen</td>\n",
       "      <td>D</td>\n",
       "      <td></td>\n",
       "      <td></td>\n",
       "      <td>0</td>\n",
       "      <td>0</td>\n",
       "      <td></td>\n",
       "      <td></td>\n",
       "    </tr>\n",
       "    <tr>\n",
       "      <th>1</th>\n",
       "      <td>2024-07-27</td>\n",
       "      <td>Anderlecht</td>\n",
       "      <td>St Truiden</td>\n",
       "      <td>H</td>\n",
       "      <td></td>\n",
       "      <td></td>\n",
       "      <td>0</td>\n",
       "      <td>0</td>\n",
       "      <td></td>\n",
       "      <td></td>\n",
       "    </tr>\n",
       "    <tr>\n",
       "      <th>2</th>\n",
       "      <td>2024-07-27</td>\n",
       "      <td>Beerschot VA</td>\n",
       "      <td>Oud-Heverlee Leuven</td>\n",
       "      <td>D</td>\n",
       "      <td></td>\n",
       "      <td></td>\n",
       "      <td>0</td>\n",
       "      <td>0</td>\n",
       "      <td></td>\n",
       "      <td></td>\n",
       "    </tr>\n",
       "    <tr>\n",
       "      <th>3</th>\n",
       "      <td>2024-07-27</td>\n",
       "      <td>Dender</td>\n",
       "      <td>St. Gilloise</td>\n",
       "      <td>D</td>\n",
       "      <td></td>\n",
       "      <td></td>\n",
       "      <td>0</td>\n",
       "      <td>0</td>\n",
       "      <td></td>\n",
       "      <td></td>\n",
       "    </tr>\n",
       "    <tr>\n",
       "      <th>4</th>\n",
       "      <td>2024-07-28</td>\n",
       "      <td>Charleroi</td>\n",
       "      <td>Antwerp</td>\n",
       "      <td>A</td>\n",
       "      <td></td>\n",
       "      <td></td>\n",
       "      <td>0</td>\n",
       "      <td>0</td>\n",
       "      <td></td>\n",
       "      <td></td>\n",
       "    </tr>\n",
       "  </tbody>\n",
       "</table>\n",
       "</div>"
      ],
      "text/plain": [
       "        Date      HomeTeam             AwayTeam FTR HomeForm AwayForm  HomeGP  \\\n",
       "0 2024-07-26   Club Brugge             Mechelen   D                         0   \n",
       "1 2024-07-27    Anderlecht           St Truiden   H                         0   \n",
       "2 2024-07-27  Beerschot VA  Oud-Heverlee Leuven   D                         0   \n",
       "3 2024-07-27        Dender         St. Gilloise   D                         0   \n",
       "4 2024-07-28     Charleroi              Antwerp   A                         0   \n",
       "\n",
       "   AwayGP HomePerf AwayPerf  \n",
       "0       0                    \n",
       "1       0                    \n",
       "2       0                    \n",
       "3       0                    \n",
       "4       0                    "
      ]
     },
     "execution_count": 4,
     "metadata": {},
     "output_type": "execute_result"
    }
   ],
   "source": [
    "# playing stats for teams before match, goal against (ga), gf, w,d,l, gp, pts, form, home_perf, away_perf\n",
    "\n",
    "def play_stat(df):\n",
    "    processed_df = pd.DataFrame(columns=df.columns.to_list() + ['HomeGF','AwayGF','HomeGA','AwayGA','HomePt','AwayPt', 'HomeForm','AwayForm','HomeGP','AwayGP','HomeW','HomeD','HomeL','AwayW','AwayD','AwayL','HomePerf','AwayPerf'])\n",
    "    \n",
    "    form_window = 5\n",
    "    \n",
    "    team_stats = defaultdict(lambda:{'gf':0, 'ga':0, 'pt':0, 'gp':0, 'w':0, 'd':0, 'l':0, 'form':deque(maxlen=form_window), 'hperf':deque(maxlen=form_window),'aperf':deque(maxlen=form_window)})\n",
    "    \n",
    "    for div, group in df.groupby(['Div', 'Date'], sort=True):\n",
    "        counter = 0\n",
    "        for row in group.itertuples():\n",
    "            home = row.HomeTeam\n",
    "            away = row.AwayTeam\n",
    "            index = row.Index\n",
    "            hg = row.FTHG\n",
    "            ag = row.FTAG\n",
    "\n",
    "            features = {}\n",
    "            for side, team, is_home in [('Home', home, True), ('Away', away, False)]:\n",
    "                stats = team_stats[team]\n",
    "                features |= {\n",
    "                    f'{side}Pt': stats['pt'],\n",
    "                    f'{side}GF': stats['gf'],\n",
    "                    f'{side}GA': stats['ga'],\n",
    "                    f'{side}Form': '-'.join(stats['form']),\n",
    "                    f'{side}GP': stats['gp'],\n",
    "                    f'{side}W': stats['w'],\n",
    "                    f'{side}D': stats['d'],\n",
    "                    f'{side}L': stats['l'],    \n",
    "                }\n",
    "                if is_home:\n",
    "                    features['HomePerf'] = '-'.join(stats['hperf'])\n",
    "                else:\n",
    "                    features['AwayPerf'] = '-'.join(stats['aperf'])\n",
    "\n",
    "\n",
    "\n",
    "            processed_df.loc[len(processed_df)] = {**row._asdict(), **features}\n",
    "            \n",
    "            def update_stats(home, away, hg, ag):\n",
    "                # goals\n",
    "                team_stats[home]['gf'] += hg\n",
    "                team_stats[home]['ga'] += ag\n",
    "                team_stats[away]['gf'] += ag\n",
    "                team_stats[away]['ga'] += hg\n",
    "\n",
    "                # games played\n",
    "                team_stats[home]['gp'] += 1\n",
    "                team_stats[away]['gp'] += 1\n",
    "\n",
    "                # result\n",
    "                if hg > ag:\n",
    "                    result = ('W', 'L', 3, 0)\n",
    "                elif hg < ag:\n",
    "                    result = ('L', 'W', 0, 3) \n",
    "                else:\n",
    "                    result = ('D', 'D', 1, 1)\n",
    "                    \n",
    "                for team, form, pts, is_home in [\n",
    "                    (home, result[0], result[2], True),\n",
    "                    (away, result[1], result[3], False)\n",
    "                ]:\n",
    "                    team_stats[team]['pt'] += pts\n",
    "                    team_stats[team][form.lower()] += 1\n",
    "                    team_stats[team]['form'].append(form)\n",
    "                    if is_home:\n",
    "                        team_stats[team]['hperf'].append(form)\n",
    "                    else:\n",
    "                        team_stats[team]['aperf'].append(form)\n",
    "            \n",
    "               \n",
    "            update_stats(home, away, hg, ag)\n",
    "\n",
    "\n",
    "\n",
    "    return processed_df\n",
    "play_stats_df1 = play_stat(ft_stat_df1)\n",
    "# play_stats_df2 = play_stat(ft_stat_df2)\n",
    "# play_stats_df3 = play_stat(ft_stat_df3)\n",
    "# play_stats_df4 = play_stat(ft_stat_df4)\n",
    "# play_stats_df5 = play_stat(ft_stat_df5)\n",
    "# play_stats_df1.tail(10)[['Date','HomeTeam','AwayTeam','HomeGF','AwayGF','HomeGA','AwayGA','HomePt','AwayPt', 'HomeForm','AwayForm','HomeGP','AwayGP','HomeW','HomeD','HomeL','AwayW','AwayD','AwayL','HomePerf','AwayPerf']]\n",
    "# play_stats_df1.head(50)[['Date','HomeTeam','AwayTeam','FTR', 'HomeForm','AwayForm','HomeGP','AwayGP', 'HomePerf','AwayPerf']]\n",
    "play_stats_df1.head()[['Date','HomeTeam','AwayTeam','FTR', 'HomeForm','AwayForm','HomeGP','AwayGP', 'HomePerf','AwayPerf']]"
   ]
  },
  {
   "cell_type": "code",
   "execution_count": 5,
   "id": "522ef462",
   "metadata": {},
   "outputs": [],
   "source": [
    "# playing stats for teams before match, h2h, h2hath (h2h at home)\n",
    "\n",
    "def add_h2h_stats(df):\n",
    "    df = df.sort_values('Date').reset_index(drop=True)\n",
    "    \n",
    "    # Create a unique matchup key that’s the same regardless of home/away order\n",
    "    df['MatchKey'] = df.apply(\n",
    "        lambda x: '-'.join(sorted([x['HomeTeam'], x['AwayTeam']])), axis=1\n",
    "    )\n",
    "\n",
    "    # Encode outcomes numerically for easier aggregation\n",
    "    df['HomeWin'] = (df['FTR'] == 'H').astype(int)\n",
    "    df['AwayWin'] = (df['FTR'] == 'A').astype(int)\n",
    "    df['Draw'] = (df['FTR'] == 'D').astype(int)\n",
    "\n",
    "    # Group by matchup\n",
    "    grouped = df.groupby('MatchKey', group_keys=False)\n",
    "\n",
    "    # For each matchup, compute cumulative counts before current match\n",
    "    df['H2H_H_W'] = grouped['HomeWin'].cumsum().shift(1).fillna(0)\n",
    "    df['H2H_A_W'] = grouped['AwayWin'].cumsum().shift(1).fillna(0)\n",
    "    df['H2H_D'] = grouped['Draw'].cumsum().shift(1).fillna(0)\n",
    "    df['H2H_Total'] = df[['H2H_H_W', 'H2H_A_W', 'H2H_D']].sum(axis=1)\n",
    "\n",
    "    return df.drop(columns=['MatchKey'])\n",
    "\n",
    "play_stats_df1 = add_h2h_stats(play_stats_df1)"
   ]
  },
  {
   "cell_type": "code",
   "execution_count": null,
   "id": "09ebdfe5",
   "metadata": {},
   "outputs": [],
   "source": [
    "# Form Heatmap to see team form visually\n",
    "\n",
    "form_matrix = play_stats_df1.pivot_table(index='HomeTeam', columns='Date', values='HomeForm', aggfunc=lambda x: ''.join(x))\n",
    "form_matrix = form_matrix.fillna('')\n",
    "sns.heatmap(form_matrix.applymap(lambda x: 1 if 'W' in x else (-1 if 'L' in x else 0)), cmap='coolwarm', center=0)\n",
    "plt.title('Team Form Heatmap')\n",
    "plt.show()\n"
   ]
  },
  {
   "cell_type": "code",
   "execution_count": null,
   "id": "c94e145a",
   "metadata": {},
   "outputs": [],
   "source": [
    "## Performance Distribution\n",
    "\n",
    "play_stats_df1[['HomeWin','Draw','AwayWin']].sum().plot.pie(\n",
    "    autopct='%1.1f%%', labels=['Home Wins','Draws','Away Wins'], title='Result Distribution'\n",
    ")\n",
    "plt.show()\n"
   ]
  },
  {
   "cell_type": "code",
   "execution_count": null,
   "id": "b0b0f748",
   "metadata": {},
   "outputs": [],
   "source": [
    "## Team Efficiency to see who converts chances into results effectively.\n",
    "\n",
    "# play_stats_df1['Efficiency'] = play_stats_df1['HomePt'] / play_stats_df1['HomeGF']\n",
    "# play_stats_df1.groupby('HomeTeam')['Efficiency'].mean().sort_values(ascending=False).head(10).plot.bar(title='Most Efficient Teams (Pts per Goal)')\n",
    "# plt.show()\n",
    "\n",
    "## League Comparison\n",
    "\n",
    "# play_stats_df1.groupby('Div')[['HomeWin','AwayWin','Draw']].mean().plot.bar(title='League-Level Outcome Rates')\n",
    "# plt.show()\n",
    "\n",
    "## Form Comparison (Home vs Away)\n",
    "\n",
    "home_perf = play_stats_df1.groupby('HomeTeam')[['HomeW','HomeD','HomeL']].sum()\n",
    "away_perf = play_stats_df1.groupby('AwayTeam')[['AwayW','AwayD','AwayL']].sum()\n",
    "\n",
    "# top 10 teams by total games played\n",
    "top_teams = (\n",
    "    (home_perf.sum(axis=1) + away_perf.sum(axis=1))\n",
    "    .sort_values(ascending=False)\n",
    "    .head(10)\n",
    "    .index\n",
    ")\n",
    "\n",
    "home_perf.loc[top_teams].plot.bar(stacked=True, figsize=(10,5), title='Top 10 Home Performance')\n",
    "plt.xticks(rotation=45)\n",
    "plt.tight_layout()\n",
    "plt.show()\n",
    "\n",
    "away_perf.loc[top_teams].plot.bar(stacked=True, figsize=(10,5), title='Top 10 Away Performance')\n",
    "plt.xticks(rotation=45)\n",
    "plt.tight_layout()\n",
    "plt.show()\n",
    "\n"
   ]
  },
  {
   "cell_type": "code",
   "execution_count": null,
   "id": "b7c1c1c7",
   "metadata": {},
   "outputs": [],
   "source": [
    "play_stats_df1.columns"
   ]
  },
  {
   "cell_type": "code",
   "execution_count": null,
   "id": "70f98595",
   "metadata": {},
   "outputs": [
    {
     "data": {
      "text/plain": [
       "Index(['HomeTeam', 'AwayTeam', 'HomeGF', 'AwayGF', 'HomeGA', 'AwayGA',\n",
       "       'HomePt', 'AwayPt', 'HomeGP', 'AwayGP', 'HomeW', 'HomeD', 'HomeL',\n",
       "       'AwayW', 'AwayD', 'AwayL', 'HomeWin', 'AwayWin', 'Draw', 'H2H_H_W',\n",
       "       'H2H_A_W', 'H2H_D', 'HomeFormScore', 'HomeAtHomeFormScore',\n",
       "       'AwayFormScore', 'AwayAtAwayFormScore', 'target'],\n",
       "      dtype='object')"
      ]
     },
     "execution_count": 46,
     "metadata": {},
     "output_type": "execute_result"
    }
   ],
   "source": [
    "# convert form to nominal features for modelling\n",
    "## We use weighted score, it helps quantify recent form while giving more importance to recent matches\n",
    "def form_weighted_score(form_deque):\n",
    "    # assign 3/1/0 for W/D/L\n",
    "    points = {'W': 3, 'D': 1, 'L': 0}\n",
    "    results = [r for r in list(form_deque) if r in points]\n",
    "    if not results:\n",
    "        return 0\n",
    "    form_points = np.array([points[r] for r in results])\n",
    "    # descending weights (recent matches get higher weight)\n",
    "    weights = np.linspace(1, 0.2, len(form_points))  ######### to .2 to be played around with later, boy!\n",
    "    \n",
    "    return np.dot(form_points, weights) / weights.sum()  # weighted sum\n",
    "\n",
    "play_stats_df1['HomeFormScore'] = play_stats_df1['HomeForm'].apply(form_weighted_score)\n",
    "play_stats_df1['HomeAtHomeFormScore'] = play_stats_df1['HomePerf'].apply(form_weighted_score)\n",
    "play_stats_df1['AwayFormScore'] = play_stats_df1['AwayForm'].apply(form_weighted_score)\n",
    "play_stats_df1['AwayAtAwayFormScore'] = play_stats_df1['AwayPerf'].apply(form_weighted_score)\n",
    "\n",
    "\n",
    "play_stats_df1.columns"
   ]
  },
  {
   "cell_type": "code",
   "execution_count": 7,
   "id": "187945cd",
   "metadata": {},
   "outputs": [
    {
     "name": "stdout",
     "output_type": "stream",
     "text": [
      "     Div       Date   Time HomeTeam AwayTeam  FTHG  FTAG FTR  HomeGF  AwayGF  \\\n",
      "447  SP2 2024-08-24  16:00   Ferrol  Granada     0     1   A       2       1   \n",
      "\n",
      "     HomeGA  AwayGA  HomePt  AwayPt HomeForm AwayForm  HomeGP  AwayGP  HomeW  \\\n",
      "447       2       2       1       0        D        L       1       1      0   \n",
      "\n",
      "     HomeD  HomeL  AwayW  AwayD  AwayL HomePerf AwayPerf  HomeWin  AwayWin  \\\n",
      "447      1      0      0      0      1        D                 0        1   \n",
      "\n",
      "     Draw  H2H_H_W  H2H_A_W  H2H_D  H2H_Total  HomeFormScore  \\\n",
      "447     0      1.0      0.0    0.0        1.0            1.0   \n",
      "\n",
      "     HomeAtHomeFormScore  AwayFormScore  AwayAtAwayFormScore  target  \n",
      "447                  1.0            0.0                  0.0       2  \n"
     ]
    }
   ],
   "source": [
    "    \n",
    "# setting target column for our model. i'm encoding the target to `0,1 or 2`\n",
    "# 0 means home team win, 1 means draw and 2 is away win\n",
    "\n",
    "play_stats_df1['target'] = play_stats_df1['FTR'].map({'H': 0, 'D': 1, 'A': 2})\n",
    "\n",
    "\n",
    "# df_modelling.tail(1), i want to see all the columns in the df\n",
    "\n",
    "with pd.option_context('display.max_columns', None):\n",
    "    print(play_stats_df1.sample(1))"
   ]
  },
  {
   "cell_type": "code",
   "execution_count": null,
   "id": "47f50494",
   "metadata": {},
   "outputs": [],
   "source": [
    "from sklearn.preprocessing import LabelEncoder\n",
    "\n",
    "# You know what, let's drop some of these columns\n",
    "play_stats_df1 = play_stats_df1.drop([\n",
    "    'FTR', 'FTHG', 'FTAG', 'Date', 'Div', 'Time', 'HomeForm', 'AwayForm', 'HomePerf', 'AwayPerf', \n",
    "    'Efficiency', 'H2H_Total'], axis='columns')\n",
    "\n",
    "# Let's label encode the team names\n",
    "\n",
    "le = LabelEncoder()\n",
    "play_stats_df1['HomeTeam'] = le.fit_transform(play_stats_df1['HomeTeam'])\n",
    "play_stats_df1['AwayTeam'] = le.fit_transform(play_stats_df1['AwayTeam'])\n"
   ]
  },
  {
   "cell_type": "code",
   "execution_count": null,
   "id": "c94bb19e",
   "metadata": {},
   "outputs": [],
   "source": [
    "# play_stats_df1['target'].value_counts(normalize=True)\n",
    "\n",
    "\n",
    "# Let's do Feature Scaling, shall we?. No, we'll use random forest so no need i guess 🤷‍♀️\n",
    "\n",
    "# from sklearn.preprocessing import StandardScaler\n",
    "\n",
    "# test_df = play_stats_df1.head(500)\n",
    "\n",
    "# num_cols = test_df.select_dtypes(include=['float64', 'int64']).columns\n",
    "# scaler = StandardScaler()\n",
    "\n",
    "# coming back to this!"
   ]
  },
  {
   "cell_type": "code",
   "execution_count": null,
   "id": "20a5861a",
   "metadata": {},
   "outputs": [],
   "source": [
    "# other league season games\n",
    "# def preprocess_df(df):\n",
    "#     relevant_columns = ['Div', 'Date', 'Time', 'HomeTeam', 'AwayTeam', 'FTHG', 'FTAG', 'FTR', \n",
    "#                     # 'HTHG', 'HTAG', 'HTR', 'HST', 'AST', 'HC', 'AC', 'HR', 'AR'\n",
    "#                     ]\n",
    "\n",
    "#     df = df[relevant_columns]\n",
    "\n",
    "#     df['Date'] = pd.to_datetime(df['Date'], dayfirst=True)\n",
    "    \n",
    "#     df = play_stat(df)\n",
    "#     df = add_h2h_stats(df)\n",
    "    \n",
    "#     df['HomeFormScore'] = df['HomeForm'].apply(form_weighted_score)\n",
    "#     df['HomeAtHomeFormScore'] = df['HomePerf'].apply(form_weighted_score)\n",
    "#     df['AwayFormScore'] = df['AwayForm'].apply(form_weighted_score)\n",
    "#     df['AwayAtAwayFormScore'] = df['AwayPerf'].apply(form_weighted_score)\n",
    "    \n",
    "#     df['target'] = df['FTR'].map({'H': 0, 'D': 1, 'A': 2})\n",
    "    \n",
    "#     df = df.drop([\n",
    "#     'FTR', 'FTHG', 'FTAG', 'Date', 'Div', 'Time', 'HomeForm', 'AwayForm', 'HomePerf', 'AwayPerf', \n",
    "#     'H2H_Total'], axis='columns')\n",
    "\n",
    "\n",
    "#     le = LabelEncoder()\n",
    "#     df['HomeTeam'] = le.fit_transform(df['HomeTeam'])\n",
    "#     df['AwayTeam'] = le.fit_transform(df['AwayTeam'])\n",
    "    \n",
    "#     return df\n",
    "\n",
    "# from sklearn.model_selection import train_test_split\n",
    "# from sklearn.ensemble import RandomForestClassifier\n",
    "\n",
    "# df2 = preprocess_df(df2)\n",
    "\n",
    "\n",
    "# X_train, X_test, y_train, y_test = train_test_split(X, y, test_size = 0.2, random_state=1)\n",
    "\n",
    "# rf = RandomForestClassifier(n_estimators=40, random_state=1, min_samples_split=10)\n",
    "# rf.fit(X_train, y_train)\n",
    "# rf.score(X_test, y_test)\n"
   ]
  },
  {
   "cell_type": "code",
   "execution_count": null,
   "id": "13919627",
   "metadata": {},
   "outputs": [
    {
     "data": {
      "text/plain": [
       "Index(['HomeTeam', 'AwayTeam', 'HomeGF', 'AwayGF', 'HomeGA', 'AwayGA',\n",
       "       'HomePt', 'AwayPt', 'HomeGP', 'AwayGP', 'HomeW', 'HomeD', 'HomeL',\n",
       "       'AwayW', 'AwayD', 'AwayL', 'HomeWin', 'AwayWin', 'Draw', 'H2H_H_W',\n",
       "       'H2H_A_W', 'H2H_D', 'HomeFormScore', 'HomeAtHomeFormScore',\n",
       "       'AwayFormScore', 'AwayAtAwayFormScore'],\n",
       "      dtype='object')"
      ]
     },
     "execution_count": 67,
     "metadata": {},
     "output_type": "execute_result"
    }
   ],
   "source": [
    "# Train Test Split\n",
    "from sklearn.model_selection import train_test_split\n",
    "from sklearn.ensemble import RandomForestClassifier\n",
    "\n",
    "X = df2.drop('target', axis='columns')\n",
    "y = df2['target']\n",
    "\n",
    "\n",
    "# X_train, X_test, y_train, y_test = train_test_split(X, y, test_size = 0.2, random_state=1)\n",
    "\n",
    "# rf = RandomForestClassifier(n_estimators=40, random_state=1, min_samples_split=10)\n",
    "# rf.fit(X_train, y_train)\n",
    "# rf.score(X_test, y_test)\n"
   ]
  },
  {
   "cell_type": "code",
   "execution_count": null,
   "id": "d42d4b69",
   "metadata": {},
   "outputs": [],
   "source": []
  },
  {
   "cell_type": "code",
   "execution_count": null,
   "id": "f4b8121b",
   "metadata": {},
   "outputs": [],
   "source": []
  },
  {
   "cell_type": "code",
   "execution_count": null,
   "id": "128ad368",
   "metadata": {},
   "outputs": [],
   "source": []
  },
  {
   "cell_type": "code",
   "execution_count": null,
   "id": "64fff254",
   "metadata": {},
   "outputs": [],
   "source": []
  },
  {
   "cell_type": "code",
   "execution_count": 15,
   "id": "93595a41",
   "metadata": {},
   "outputs": [],
   "source": [
    "y_predicted = rf.predict(X_test)"
   ]
  },
  {
   "cell_type": "code",
   "execution_count": 16,
   "id": "61bbbeea",
   "metadata": {},
   "outputs": [
    {
     "data": {
      "text/plain": [
       "array([[656,   0,   0],\n",
       "       [  0, 399,   0],\n",
       "       [  0,   0, 482]])"
      ]
     },
     "execution_count": 16,
     "metadata": {},
     "output_type": "execute_result"
    }
   ],
   "source": [
    "from sklearn.metrics import confusion_matrix\n",
    "cm = confusion_matrix(y_test, y_predicted)\n",
    "cm"
   ]
  },
  {
   "cell_type": "code",
   "execution_count": 19,
   "id": "34da1033",
   "metadata": {},
   "outputs": [
    {
     "data": {
      "text/plain": [
       "Text(95.72222222222221, 0.5, 'Match outcome')"
      ]
     },
     "execution_count": 19,
     "metadata": {},
     "output_type": "execute_result"
    },
    {
     "data": {
      "image/png": "[encoded data removed]",
      "text/plain": [
       "<Figure size 1000x700 with 2 Axes>"
      ]
     },
     "metadata": {},
     "output_type": "display_data"
    }
   ],
   "source": [
    "%matplotlib inline\n",
    "import matplotlib.pyplot as plt\n",
    "import seaborn as sn\n",
    "plt.figure(figsize=(10,7))\n",
    "sn.heatmap(cm, annot=True)\n",
    "plt.xlabel('RF Prediction')\n",
    "plt.ylabel('Match outcome')"
   ]
  }
 ],
 "metadata": {
  "kernelspec": {
   "display_name": "footyml",
   "language": "python",
   "name": "python3"
  },
  "language_info": {
   "codemirror_mode": {
    "name": "ipython",
    "version": 3
   },
   "file_extension": ".py",
   "mimetype": "text/x-python",
   "name": "python",
   "nbconvert_exporter": "python",
   "pygments_lexer": "ipython3",
   "version": "3.13.7"
  }
 },
 "nbformat": 4,
 "nbformat_minor": 5
}
